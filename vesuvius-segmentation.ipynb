{
 "cells": [
  {
   "cell_type": "code",
   "execution_count": 1,
   "metadata": {},
   "outputs": [],
   "source": [
    "import torch\n",
    "import torch.nn as nn\n",
    "import torch.optim as optim\n",
    "import numpy as np\n",
    "import glob\n",
    "import PIL.Image as Image\n",
    "from torch.utils.data import Dataset\n",
    "import matplotlib.pyplot as plt\n",
    "import matplotlib.patches as patches\n",
    "from tqdm import tqdm\n",
    "from ipywidgets import interact, fixed\n",
    "\n",
    "import os"
   ]
  },
  {
   "cell_type": "code",
   "execution_count": 2,
   "metadata": {},
   "outputs": [],
   "source": [
    "class VesuviusSegmentationData(Dataset):\n",
    "    def __init__(self, train_dir, divx=3, divy=3):\n",
    "        self.train_samples = [(os.path.join(train_dir, sub), y, x) for sub in os.listdir(train_dir) for y in range(divy) for x in range(divx)]\n",
    "        self.train_dir = train_dir\n",
    "        self.divx,self.divy = divx, divy\n",
    "\n",
    "    def div_xy(self, image : np.ndarray, cx : int, cy : int):\n",
    "        sizey,sizex = image.shape[0],image.shape[1]\n",
    "        return image[cy*sizey//self.divy:(cy+1)*sizey//self.divy , cx*sizex//self.divx:(cx+1)*sizex//self.divx]\n",
    "\n",
    "    def __len__(self):\n",
    "        return len(self.train_samples)\n",
    "\n",
    "    def __getitem__(self, idx : int): # dataset[idx] where idx < len(dataset) returns a sample in no particular order\n",
    "        key, cy, cx = self.train_samples[idx]\n",
    "        dir = key\n",
    "\n",
    "        pattern = os.path.join(dir, \"surface_volume\", \"*.tif\")\n",
    "        images = []\n",
    "        for filename in sorted(glob.glob(pattern)): # Load and chunk each xray slice individually for memory savings.\n",
    "            image = np.array(Image.open(filename), dtype=np.float32)/65535.0\n",
    "            images.append(self.div_xy(image, cx, cy))\n",
    "\n",
    "        mask = np.array(Image.open(os.path.join(dir, \"mask.png\")).convert('1'))\n",
    "        mask = self.div_xy(mask, cx, cy)\n",
    "        label = np.array(Image.open(os.path.join(dir, \"inklabels.png\")))\n",
    "        label = self.div_xy(label, cx, cy)\n",
    "\n",
    "        return np.array(images), label > 0, mask > 0"
   ]
  },
  {
   "cell_type": "code",
   "execution_count": 3,
   "metadata": {},
   "outputs": [],
   "source": [
    "dataset = VesuviusSegmentationData(\"vesuvius-challenge-ink-detection/train\")"
   ]
  },
  {
   "cell_type": "code",
   "execution_count": null,
   "metadata": {},
   "outputs": [],
   "source": []
  }
 ],
 "metadata": {
  "kernelspec": {
   "display_name": "vesuvius-challenge-ink-detection",
   "language": "python",
   "name": "python3"
  },
  "language_info": {
   "codemirror_mode": {
    "name": "ipython",
    "version": 3
   },
   "file_extension": ".py",
   "mimetype": "text/x-python",
   "name": "python",
   "nbconvert_exporter": "python",
   "pygments_lexer": "ipython3",
   "version": "3.11.0"
  }
 },
 "nbformat": 4,
 "nbformat_minor": 2
}
